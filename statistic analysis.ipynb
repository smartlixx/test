{
 "metadata": {
  "name": "RMSE"
 },
 "nbformat": 3,
 "nbformat_minor": 0,
 "worksheets": [
  {
   "cells": [
    {
     "cell_type": "code",
     "collapsed": false,
     "input": "import numpy as np\nimport pandas as pd\nimport matplotlib.pyplot as plt\nimport datetime as dt\nimport matplotlib.dates as mdates\nimport pytz\nimport scipy.io.netcdf as nc\nfrom scipy.optimize import leastsq\nimport pylab as pl\n\n\n#input observed data\ndateparse = lambda x: pd.datetime.strptime(x,'%Y %j %H %M')\nFluxData = pd.read_csv('FLUXTS_242_2010-110_2014.dat',\n                       header=0, \n                       skiprows=1,\n                       delim_whitespace=True, \n                       skipinitialspace=True,\n                       parse_dates={'Time':['year','Day','H','P']},\n                       index_col='Time',\n                       usecols=['year','Day','H','P','H(W/m2)','HL(W/m2)','Qnet(W/m2)'],\n                       na_values=[-999],\n                       date_parser=dateparse)\nFluxData = FluxData['2013-05-18 01:00:00':'2014-04-19 01:00:00']\nFluxData.index = FluxData.index.tz_localize(pytz.timezone('Asia/Singapore'))\nFluxData[FluxData.isnull().sum(1)>0] = np.nan\n#FluxData.loc[FluxData['HL(W/m2)']<0,'HL(W/m2)'] = 0.0\nFluxData.loc[FluxData['HL(W/m2)']<0] = np.nan\n\n# input modelled data\nnc_file = nc.netcdf_file('aoasis_turn_on.nc','r')    # OUTPUT.nc from model\ntime = nc_file.variables['Times'][0::2]\ntime_str = map(''.join,time)\ntime_final = [pd.datetime.strptime(t, '%Y%m%d%H%M').replace(tzinfo=pytz.utc).astimezone(pytz.timezone('Asia/Singapore')) for t in time_str]\nlh = nc_file.variables['Qle'][0::2]     # total latent heat flux   \nsh = nc_file.variables['Qh'][0::2]      # total sensible heat flux\nrn = nc_file.variables['Rnet'][0::2]    # total net all wave radiation\noutput_data = pd.DataFrame(np.transpose([time_final, sh, lh, rn]),columns=['Time','H(W/m2)','HL(W/m2)','Qnet(W/m2)'])\noutput_data = output_data.set_index('Time')\noutput_data = output_data.astype('float64')\n\ndiff = output_data-FluxData\ndiff_abs = abs(diff)\nlenth = diff.count()\n\n\nMBE = diff.sum()/lenth\nMAE = diff_abs.sum()/lenth\nRMSE = ((diff**2).sum()/lenth)**0.5\nIOA = 1-((diff**2).sum()/((abs(output_data-FluxData.mean())+abs(FluxData-FluxData.mean()))**2).sum())\nMEAN_pre = output_data.mean()\nMEAN_obs = FluxData.mean()\nSD_pre = output_data.std()\nSD_obs = FluxData.std()\nprint 'count',lenth\nprint 'MBE',MBE\nprint 'MAE',MAE\nprint 'RMSE',RMSE\nprint 'IOA', IOA\nprint 'MEAN_pre',MEAN_pre\nprint 'MEAN_obs',MEAN_obs\nprint 'SD_pre',SD_pre\nprint 'SD_obs',SD_obs\n\n\na1 = FluxData['H(W/m2)']\nb1 = output_data['H(W/m2)']\na1 = a1.dropna()            # obs\nb1 = (b1-a1).dropna()+a1      # model\nz1 = np.polyfit(a1,b1,1)\np1 = np.poly1d(z1)\nprint(z1)\nprint(p1)\n\na2 = FluxData['HL(W/m2)']\nb2 = output_data['HL(W/m2)']\na2 = a2.dropna()            # obs\nb2 = (b2-a2).dropna()+a2      # model\nz2 = np.polyfit(a2,b2,1)\np2 = np.poly1d(z2)\nprint(z2)\nprint(p2)\n\na3 = FluxData['Qnet(W/m2)']\nb3 = output_data['Qnet(W/m2)']\na3 = a3.dropna()            # obs\nb3 = (b3-a3).dropna()+a3      # model\nz3 = np.polyfit(a3,b3,1)\np3 = np.poly1d(z3)\nprint(z3)\nprint(p3)\nplt.subplot(311)   \npl.plot(a1,b1,'bo',label='origin curve')\npl.plot(a1,p1(a1),'gv--',label='fitting curve')\nplt.title('sensible heat')\nplt.subplot(312)\npl.plot(a2,b2,'bo',label='origin curve')\npl.plot(a2,p2(a2),'gv--',label='fitting curve')\nplt.title('latent heat')\nplt.subplot(313)\npl.plot(a3,b3,'bo',label='origin curve')\npl.plot(a3,p3(a3),'gv--',label='fitting curve')\nplt.title('net wave radiation')\npl.legend()\npl.show()\n\npre_H = 0.8152*FluxData['H(W/m2)'] + 9.907\npre_LE = 0.2558*FluxData['HL(W/m2)'] + 4.363\npre_Qnet = 0.8916*FluxData['Qnet(W/m2)'] - 25.75\n\ndiff_sH    = pre_H-FluxData['H(W/m2)']\ndiff_sLE   = pre_LE-FluxData['HL(W/m2)']\ndiff_sQnet = pre_Qnet-FluxData['Qnet(W/m2)']\ndiff_uH    = output_data['H(W/m2)']-pre_H\ndiff_uLE   = output_data['HL(W/m2)']-pre_LE\ndiff_uQnet = output_data['Qnet(W/m2)']-pre_Qnet\n\nRMSEs_H = ((diff_sH**2).sum()/diff_sH.count())**0.5\nRMSEu_H = ((diff_uH**2).sum()/diff_uH.count())**0.5\nRMSEs_LE = ((diff_sLE**2).sum()/diff_sLE.count())**0.5\nRMSEu_LE = ((diff_uLE**2).sum()/diff_uLE.count())**0.5\nRMSEs_Qnet = ((diff_sQnet**2).sum()/diff_sQnet.count())**0.5\nRMSEu_Qnet = ((diff_uQnet**2).sum()/diff_uQnet.count())**0.5\n\nprint 'RMSEs_H',RMSEs_H\nprint 'RMSEu_H',RMSEu_H\nprint 'RMSEs_LE',RMSEs_LE\nprint 'RMSEu_LE',RMSEu_LE\nprint 'RMSEs_Qnet',RMSEs_Qnet\nprint 'RMSEu_Qnet',RMSEu_Qnet\n\n\n#print diff['2013-06-01 00:00:00':]['HL(W/m2)'].max()\n#print FluxData['H(W/m2)'].mean()                                   \n#print output_data['H(W/m2)'].mean()\n\n\n\nprint output_data['H(W/m2)'].describe()                            \nprint output_data['HL(W/m2)'].describe()    \nprint output_data['Qnet(W/m2)'].describe()\n",
     "language": "python",
     "metadata": {},
     "outputs": [
      {
       "output_type": "stream",
       "stream": "stdout",
       "text": "count H(W/m2)       11973\nHL(W/m2)      11973\nQnet(W/m2)    11973\ndtype: int64\nMBE H(W/m2)       -3.449632\nHL(W/m2)     -26.166403\nQnet(W/m2)   -39.670615\ndtype: float64\nMAE H(W/m2)       23.522685\nHL(W/m2)      28.355665\nQnet(W/m2)    39.728271\ndtype: float64\nRMSE H(W/m2)       35.477446\nHL(W/m2)      48.473211\nQnet(W/m2)    48.388010\ndtype: float64\nIOA H(W/m2)       0.959899\nHL(W/m2)      0.595544\nQnet(W/m2)    0.987474\ndtype: float64\nMEAN_pre H(W/m2)       60.263589\nHL(W/m2)      15.589459\nQnet(W/m2)    68.100618\ndtype: float64\nMEAN_obs H(W/m2)        72.286705\nHL(W/m2)       41.024099\nQnet(W/m2)    128.384921\ndtype: float64\nSD_pre H(W/m2)        79.486488\nHL(W/m2)       28.899205\nQnet(W/m2)    193.879396\ndtype: float64\nSD_obs H(W/m2)        95.895935\nHL(W/m2)       48.746460\nQnet(W/m2)    227.466187\ndtype: float64\n[ 0.81522274  9.90730698]\n \n0.8152 x + 9.907\n[ 0.25580837  4.36338817]\n \n0.2558 x + 4.363\n[  0.89159105 -25.75254013]\n \n0.8916 x - 25.75\nRMSEs_H"
      },
      {
       "output_type": "stream",
       "stream": "stdout",
       "text": " 18.0538415533\nRMSEu_H 30.5417535116\nRMSEs_LE 44.7284932955\nRMSEu_LE 18.6837344687\nRMSEs_Qnet 46.7054423491\nRMSEu_Qnet 12.6336052174\ncount    16129.000000\nmean        60.263589\nstd         79.486488\nmin        -10.238003\n25%          8.379281\n50%         18.821213\n75%         87.379478\nmax        402.680237\nName: H(W/m2), dtype: float64\ncount    16129.000000\nmean        15.589459\nstd         28.899205\nmin         -0.383126\n25%          0.763077\n50%          3.639965\n75%         18.748232\nmax        518.078186\nName: HL(W/m2), dtype: float64\ncount    16129.000000\nmean        68.100618\nstd        193.879396\nmin       -118.518982\n25%        -64.620667\n50%        -41.978241\n75%        166.483215\nmax        725.389832\nName: Qnet(W/m2), dtype: float64\n"
      }
     ],
     "prompt_number": 8
    },
    {
     "cell_type": "code",
     "collapsed": false,
     "input": " ",
     "language": "python",
     "metadata": {},
     "outputs": []
    }
   ],
   "metadata": {}
  }
 ]
}